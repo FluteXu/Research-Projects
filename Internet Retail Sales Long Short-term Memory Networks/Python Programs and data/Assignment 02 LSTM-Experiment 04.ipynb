{
 "cells": [
  {
   "cell_type": "markdown",
   "metadata": {},
   "source": [
    "# <center>Assignment 2 LSTM - Fixed Window Size Loop With Unadjusted-Seasonality Data"
   ]
  },
  {
   "cell_type": "code",
   "execution_count": 321,
   "metadata": {},
   "outputs": [],
   "source": [
    "import numpy as np\n",
    "import pandas as pd\n",
    "import seaborn as sns\n",
    "import matplotlib.pyplot as plt\n",
    "import warnings\n",
    "warnings.filterwarnings('ignore')"
   ]
  },
  {
   "cell_type": "code",
   "execution_count": 322,
   "metadata": {},
   "outputs": [],
   "source": [
    "# Basic Time Series Setting\n",
    "import statsmodels.api as smapi\n",
    "import statsmodels.tsa.api as smt"
   ]
  },
  {
   "cell_type": "code",
   "execution_count": 323,
   "metadata": {},
   "outputs": [],
   "source": [
    "# RNN Package Setting\n",
    "import time\n",
    "import math\n",
    "from sklearn.preprocessing import StandardScaler\n",
    "from sklearn.metrics import mean_squared_error, mean_absolute_error\n",
    "from keras.layers.core import Dense, Activation, Dropout\n",
    "from keras.layers.recurrent import LSTM\n",
    "from keras.models import Sequential\n",
    "from keras import optimizers\n",
    "\n",
    "np.random.seed(1)"
   ]
  },
  {
   "cell_type": "markdown",
   "metadata": {},
   "source": [
    "## Data Preparation"
   ]
  },
  {
   "cell_type": "code",
   "execution_count": 324,
   "metadata": {},
   "outputs": [],
   "source": [
    "data=pd.read_csv('internet_retail_sales.csv',parse_dates=[0], index_col=0)\n",
    "sales=data.values"
   ]
  },
  {
   "cell_type": "markdown",
   "metadata": {},
   "source": [
    "### Standardisation"
   ]
  },
  {
   "cell_type": "code",
   "execution_count": 325,
   "metadata": {},
   "outputs": [
    {
     "name": "stdout",
     "output_type": "stream",
     "text": [
      "326.51619183478374\n",
      "599.4138686131387\n"
     ]
    }
   ],
   "source": [
    "# Standardisation\n",
    "scaler = StandardScaler()\n",
    "sales_scaled=scaler.fit_transform(sales)\n",
    "\n",
    "# Std & Mean Calculation\n",
    "data_std=np.std(sales)\n",
    "data_mean=np.mean(sales)\n",
    "\n",
    "print(data_std)\n",
    "print(data_mean)"
   ]
  },
  {
   "cell_type": "markdown",
   "metadata": {},
   "source": [
    "### Fixed Data Window"
   ]
  },
  {
   "cell_type": "code",
   "execution_count": 326,
   "metadata": {},
   "outputs": [],
   "source": [
    "# Creating Training and Test feature\n",
    "time_window=12\n",
    "\n",
    "Xall, yall=[],[]\n",
    "\n",
    "for i in range(time_window, len(sales_scaled)):\n",
    "    Xall.append(sales_scaled[i-time_window:i,0])\n",
    "    yall.append(sales_scaled[i,0])\n",
    "\n",
    "Xall=np.array(Xall)\n",
    "yall=np.array(yall)"
   ]
  },
  {
   "cell_type": "markdown",
   "metadata": {},
   "source": [
    "### Train Test Split"
   ]
  },
  {
   "cell_type": "markdown",
   "metadata": {},
   "source": [
    "#### Real Test Split for Hold out"
   ]
  },
  {
   "cell_type": "code",
   "execution_count": 313,
   "metadata": {},
   "outputs": [],
   "source": [
    "test_size=12\n",
    "Xtrain, Xtest=Xall[0:-test_size], Xall[-test_size:]\n",
    "ytrain, ytest=yall[0:-test_size], yall[-test_size:]\n",
    "\n",
    "# Unscaled Data Preparation for Evaluation\n",
    "y_train_raw=sales[0:-test_size]\n",
    "y_test_raw=sales[-test_size:]"
   ]
  },
  {
   "cell_type": "markdown",
   "metadata": {},
   "source": [
    "#### Pseudo Test Split for Validation"
   ]
  },
  {
   "cell_type": "code",
   "execution_count": 314,
   "metadata": {},
   "outputs": [],
   "source": [
    "Xtrain_pse, Xtest_pse=Xtrain[0:-test_size], Xtrain[-test_size:]\n",
    "ytrain_pse, ytest_pse=ytrain[0:-test_size], ytrain[-test_size:]\n",
    "\n",
    "# Unscaled Data Preparation for Evaluation\n",
    "y_train_pse_raw=y_train_raw[0:-test_size]\n",
    "y_test_pse_raw=y_train_raw[-test_size:]"
   ]
  },
  {
   "cell_type": "markdown",
   "metadata": {},
   "source": [
    "### Reshape Data Window into 3D"
   ]
  },
  {
   "cell_type": "code",
   "execution_count": 315,
   "metadata": {},
   "outputs": [
    {
     "name": "stdout",
     "output_type": "stream",
     "text": [
      "(113, 12, 1)\n",
      "(12, 12, 1)\n",
      "(101, 12, 1)\n",
      "(12, 12, 1)\n"
     ]
    }
   ],
   "source": [
    "# Real Train Test Split\n",
    "Xtrain, Xtest=Xtrain.reshape(Xtrain.shape[0], time_window, 1), Xtest.reshape(Xtest.shape[0], time_window, 1)\n",
    "# Pseudo Train Test Split\n",
    "Xtrain_pse, Xtest_pse=Xtrain_pse.reshape(Xtrain_pse.shape[0], time_window, 1), Xtest_pse.reshape(Xtest_pse.shape[0], time_window, 1)\n",
    "\n",
    "print(Xtrain.shape)\n",
    "print(Xtest.shape)\n",
    "\n",
    "print(Xtrain_pse.shape)\n",
    "print(Xtest_pse.shape)"
   ]
  },
  {
   "cell_type": "markdown",
   "metadata": {},
   "source": [
    "## RNN-Fixed Window Size Model Fitting"
   ]
  },
  {
   "cell_type": "code",
   "execution_count": 328,
   "metadata": {},
   "outputs": [
    {
     "name": "stdout",
     "output_type": "stream",
     "text": [
      "Compilation Time :  0.025173187255859375\n",
      "Train on 90 samples, validate on 11 samples\n",
      "Epoch 1/1\n",
      " - 0s - loss: 0.5851 - val_loss: 0.9007\n",
      "Compilation Time :  0.01096343994140625\n",
      "Train on 90 samples, validate on 11 samples\n",
      "Epoch 1/1\n",
      " - 0s - loss: 0.1689 - val_loss: 0.4980\n"
     ]
    }
   ],
   "source": [
    "# Model Fitting\n",
    "epochs=1\n",
    "repeats=2\n",
    "\n",
    "neurons_min=1\n",
    "neurons_max=2\n",
    "\n",
    "window_min=12\n",
    "window_max=13\n",
    "\n",
    "step=1\n",
    "\n",
    "# train_loss=np.zeros(shape=(window_max-window_min,int((neurons_max-neurons_min)/5)))\n",
    "# cv_loss=np.zeros(shape=(window_max-window_min,int((neurons_max-neurons_min)/5)))\n",
    "# test_loss=[np.zeros(shape=(window_max-window_min,int((neurons_max-neurons_min)/5)))]\n",
    "train_loss=[]\n",
    "train_loss_res=[]\n",
    "\n",
    "cv_loss=[]\n",
    "cv_loss_res=[]\n",
    "\n",
    "test_loss=[]\n",
    "\n",
    "for w in range(window_min,window_max):\n",
    "       \n",
    "    time_window=w\n",
    "\n",
    "    Xall, yall=[],[]\n",
    "    for i in range(time_window, len(sales_scaled)):\n",
    "        Xall.append(sales_scaled[i-time_window:i,0])\n",
    "        yall.append(sales_scaled[i,0])     \n",
    "    Xall=np.array(Xall)\n",
    "    yall=np.array(yall)\n",
    "    \n",
    "    # Real Train Test Split\n",
    "    test_size=12\n",
    "    Xtrain, Xtest=Xall[0:-test_size], Xall[-test_size:]\n",
    "    ytrain, ytest=yall[0:-test_size], yall[-test_size:]\n",
    "    # Unscaled Data Preparation for Evaluation\n",
    "    y_train_raw=sales[0:-test_size]\n",
    "    y_test_raw=sales[-test_size:]\n",
    "\n",
    "    # Validation Train Test Split\n",
    "    Xtrain_pse, Xtest_pse=Xtrain[0:-test_size], Xtrain[-test_size:]\n",
    "    ytrain_pse, ytest_pse=ytrain[0:-test_size], ytrain[-test_size:]\n",
    "    # Unscaled Data Preparation for Evaluation\n",
    "    y_train_pse_raw=y_train_raw[0:-test_size]\n",
    "    y_test_pse_raw=y_train_raw[-test_size:]\n",
    "\n",
    "    # Real Train Test Split Reshape \n",
    "    Xtrain, Xtest=Xtrain.reshape(Xtrain.shape[0], time_window, 1), Xtest.reshape(Xtest.shape[0], time_window, 1)\n",
    "    # Validation Train Test Split Reshape\n",
    "    Xtrain_pse, Xtest_pse=Xtrain_pse.reshape(Xtrain_pse.shape[0], time_window, 1), Xtest_pse.reshape(Xtest_pse.shape[0], time_window, 1)\n",
    "\n",
    "\n",
    "    for n in range(neurons_min,neurons_max,step):\n",
    "    #         fig=plt.figure()  \n",
    "        rmse_t=[]\n",
    "        for j in range(repeats):\n",
    "\n",
    "            model=Sequential()\n",
    "            model.add(LSTM(n,input_shape = (time_window,1), batch_size=1,stateful=True))\n",
    "            model.add(Dropout(0.2))\n",
    "            model.add(Dense(1,activation='linear'))\n",
    "            #     model.add(Dense(1))\n",
    "\n",
    "            # compile model for use\n",
    "            start=time.time()\n",
    "            model.compile(loss=\"mse\", optimizer=\"rmsprop\")\n",
    "            print(\"Compilation Time : \", time.time() - start)\n",
    "\n",
    "            train_loss_t=[]\n",
    "            cv_loss_t=[]   \n",
    "            for i in range(epochs):\n",
    "                history=model.fit(Xtrain_pse,ytrain_pse, epochs=1, batch_size=1, verbose=2,validation_split=0.1,shuffle=False)\n",
    "                train_loss_t.append(history.history['loss'])\n",
    "                cv_loss_t.append(history.history['val_loss'])\n",
    "                model.reset_states()\n",
    "\n",
    "            # Loss Calculation  \n",
    "            # Test RMSE - For my own happiness\n",
    "            test_predict_pse = model.predict(Xtest_pse,batch_size=1)\n",
    "            test_predict_pse=scaler.inverse_transform(test_predict_pse)    \n",
    "            rmse_t.append(math.sqrt(mean_squared_error(y_test_pse_raw,test_predict_pse)))\n",
    "                \n",
    "            # cross validation loss\n",
    "            cv_loss.append(np.array(cv_loss_t))\n",
    "            cv_loss_res.append(np.array(cv_loss_t)*data_std)\n",
    "            # training loss\n",
    "            train_loss.append(np.array(train_loss_t))            \n",
    "            train_loss_res.append(np.array(train_loss_t)*data_std)\n",
    "            \n",
    "        # calculate mean and std of muti-rmse\n",
    "        rmse_t.append(np.mean(rmse_t))\n",
    "        rmse_t.append(np.std(rmse_t))\n",
    "        test_loss.append(rmse_t)\n",
    "\n",
    "# plt.plot(train_loss,color='blue')\n",
    "# plt.plot(cv_loss,color='orange')\n",
    "    \n",
    "# plt.title('model train vs validation loss')\n",
    "# plt.ylabel('loss')\n",
    "# plt.xlabel('epoch')\n",
    "# # # plt.legend(['train', 'validation'], loc='upper right')\n",
    "# plt.show()\n",
    "# fig.savefig('epochs_tuning.png',dpi=1000)"
   ]
  },
  {
   "cell_type": "code",
   "execution_count": 329,
   "metadata": {},
   "outputs": [
    {
     "data": {
      "text/plain": [
       "[[500.8493973603309,\n",
       "  436.1133356738504,\n",
       "  468.48136651709063,\n",
       "  26.428386514868855]]"
      ]
     },
     "execution_count": 329,
     "metadata": {},
     "output_type": "execute_result"
    }
   ],
   "source": [
    "test_loss"
   ]
  },
  {
   "cell_type": "code",
   "execution_count": 330,
   "metadata": {},
   "outputs": [
    {
     "data": {
      "text/plain": [
       "[array([[0.58513226]]), array([[0.16889615]])]"
      ]
     },
     "execution_count": 330,
     "metadata": {},
     "output_type": "execute_result"
    }
   ],
   "source": [
    "train_loss"
   ]
  },
  {
   "cell_type": "code",
   "execution_count": 331,
   "metadata": {
    "scrolled": true
   },
   "outputs": [
    {
     "data": {
      "text/plain": [
       "[array([[0.9006817]]), array([[0.49802812]])]"
      ]
     },
     "execution_count": 331,
     "metadata": {},
     "output_type": "execute_result"
    }
   ],
   "source": [
    "cv_loss"
   ]
  },
  {
   "cell_type": "code",
   "execution_count": 332,
   "metadata": {},
   "outputs": [
    {
     "data": {
      "text/plain": [
       "[array([[294.08715881]]), array([[162.61424541]])]"
      ]
     },
     "execution_count": 332,
     "metadata": {},
     "output_type": "execute_result"
    }
   ],
   "source": [
    "cv_loss_res"
   ]
  },
  {
   "cell_type": "code",
   "execution_count": 333,
   "metadata": {},
   "outputs": [
    {
     "data": {
      "text/plain": [
       "[array([[191.05515749]]), array([[55.14732674]])]"
      ]
     },
     "execution_count": 333,
     "metadata": {},
     "output_type": "execute_result"
    }
   ],
   "source": [
    "train_loss_res"
   ]
  },
  {
   "cell_type": "code",
   "execution_count": 303,
   "metadata": {},
   "outputs": [
    {
     "data": {
      "image/png": "[encoded data removed]",
      "text/plain": [
       "<matplotlib.figure.Figure at 0x1a71f013550>"
      ]
     },
     "metadata": {},
     "output_type": "display_data"
    }
   ],
   "source": [
    "# Cross Validation Visualization\n",
    "fig=plt.figure()\n",
    "plt.plot(np.array(train_loss)[0,:],color='blue')\n",
    "plt.plot(np.array(train_loss)[1,:],color='blue')\n",
    "plt.plot(np.array(train_loss)[2,:],color='blue')\n",
    "plt.plot(np.array(train_loss)[3,:],color='blue')\n",
    "plt.plot(np.array(train_loss)[4,:],color='blue')\n",
    "\n",
    "plt.plot(np.array(cv_loss)[0,:],color='orange')\n",
    "plt.plot(np.array(cv_loss)[1,:],color='orange')\n",
    "plt.plot(np.array(cv_loss)[2,:],color='orange')\n",
    "plt.plot(np.array(cv_loss)[3,:],color='orange')\n",
    "plt.plot(np.array(cv_loss)[4,:],color='orange')\n",
    "\n",
    "\n",
    "# plt.legend()\n",
    "plt.xlabel('epochs')\n",
    "plt.ylabel('loss')\n",
    "plt.title('train Loss & Cross Validation Loss')\n",
    "plt.show()\n",
    "fig.savefig('loss_output.png',dpi=1000)"
   ]
  },
  {
   "cell_type": "code",
   "execution_count": 268,
   "metadata": {},
   "outputs": [
    {
     "data": {
      "image/png": "[encoded data removed]",
      "text/plain": [
       "<matplotlib.figure.Figure at 0x1a72312a208>"
      ]
     },
     "metadata": {},
     "output_type": "display_data"
    }
   ],
   "source": [
    "fig=plt.figure()\n",
    "plt.plot(np.arange(40,100,5),test_loss.iloc[0,:],label='time_window=10,linear activation',color='blue')\n",
    "plt.plot(np.arange(40,100,5),test_loss.iloc[1,:],label='time_window=11,linear activation',color='red')\n",
    "plt.plot(np.arange(40,100,5),test_loss.iloc[2,:],label='time_window=12,linear activation',color='yellow')\n",
    "plt.plot(np.arange(40,100,5),test_loss.iloc[3,:],label='time_window=13,linear activation',color='orange')\n",
    "plt.plot(np.arange(40,100,5),test_loss.iloc[4,:],label='time_window=14,linear activation',color='green')\n",
    "plt.legend()\n",
    "plt.xlabel('neurons')\n",
    "plt.ylabel('loss')\n",
    "plt.title('One Step Ahead Loss')\n",
    "plt.show()\n",
    "fig.savefig('loss_output.png',dpi=1000)"
   ]
  },
  {
   "cell_type": "code",
   "execution_count": 269,
   "metadata": {},
   "outputs": [],
   "source": [
    "test_loss.to_excel('Loss_T10-14_N40-100.xlsx')"
   ]
  },
  {
   "cell_type": "code",
   "execution_count": 200,
   "metadata": {},
   "outputs": [],
   "source": [
    "# Predict\n",
    "train_predict = model.predict(Xtrain,batch_size=1)\n",
    "test_predict = model.predict(Xtest,batch_size=1)\n",
    "\n",
    "# Inverse Prediction\n",
    "train_predict=scaler.inverse_transform(train_predict)\n",
    "test_predict=scaler.inverse_transform(test_predict)"
   ]
  },
  {
   "cell_type": "markdown",
   "metadata": {},
   "source": [
    "## Training Score"
   ]
  },
  {
   "cell_type": "code",
   "execution_count": 201,
   "metadata": {},
   "outputs": [],
   "source": [
    "# epochs_summary=[]\n",
    "# neurons_summary=[]\n",
    "# rmse_summary=[]\n",
    "# mae_summary=[]"
   ]
  },
  {
   "cell_type": "code",
   "execution_count": 202,
   "metadata": {},
   "outputs": [],
   "source": [
    "rmse=math.sqrt(mean_squared_error(y_test_raw,test_predict))\n",
    "mae=mean_absolute_error(y_test_raw,test_predict)"
   ]
  },
  {
   "cell_type": "code",
   "execution_count": 203,
   "metadata": {},
   "outputs": [
    {
     "name": "stdout",
     "output_type": "stream",
     "text": [
      "[300, 300, 300, 300, 300, 300, 300]\n",
      "[5, 10, 50, 100, 150, 125, 113]\n",
      "[318.7349936417306, 230.30975251899886, 208.24286191876573, 134.40613515925975, 299.2879239417023, 338.1812868338608, 225.34691825042538]\n",
      "[260.30489908854173, 126.15896402994788, 146.3288401285807, 111.27141418457029, 243.473257446289, 287.5988016764323, 174.387559000651]\n"
     ]
    }
   ],
   "source": [
    "epochs_summary.append(epochs)\n",
    "neurons_summary.append(neurons)\n",
    "rmse_summary.append(rmse)\n",
    "mae_summary.append(mae)\n",
    "\n",
    "print(epochs_summary)\n",
    "print(neurons_summary)\n",
    "print(rmse_summary)\n",
    "print(mae_summary)"
   ]
  },
  {
   "cell_type": "markdown",
   "metadata": {},
   "source": [
    "## Diagnostic Plot"
   ]
  },
  {
   "cell_type": "code",
   "execution_count": 101,
   "metadata": {},
   "outputs": [
    {
     "ename": "ZeroDivisionError",
     "evalue": "integer division or modulo by zero",
     "output_type": "error",
     "traceback": [
      "\u001b[1;31m---------------------------------------------------------------------------\u001b[0m",
      "\u001b[1;31mZeroDivisionError\u001b[0m                         Traceback (most recent call last)",
      "\u001b[1;32m<ipython-input-101-f4a8b373be88>\u001b[0m in \u001b[0;36m<module>\u001b[1;34m()\u001b[0m\n\u001b[0;32m      1\u001b[0m \u001b[0mfig\u001b[0m\u001b[1;33m=\u001b[0m\u001b[0mplt\u001b[0m\u001b[1;33m.\u001b[0m\u001b[0mfigure\u001b[0m\u001b[1;33m(\u001b[0m\u001b[1;33m)\u001b[0m\u001b[1;33m\u001b[0m\u001b[0m\n\u001b[1;32m----> 2\u001b[1;33m \u001b[0mplt\u001b[0m\u001b[1;33m.\u001b[0m\u001b[0mplot\u001b[0m\u001b[1;33m(\u001b[0m\u001b[0mtrain_loss_summary\u001b[0m\u001b[1;33m)\u001b[0m\u001b[1;33m\u001b[0m\u001b[0m\n\u001b[0m\u001b[0;32m      3\u001b[0m \u001b[0mplt\u001b[0m\u001b[1;33m.\u001b[0m\u001b[0mplot\u001b[0m\u001b[1;33m(\u001b[0m\u001b[0mcv_loss_summary\u001b[0m\u001b[1;33m)\u001b[0m\u001b[1;33m\u001b[0m\u001b[0m\n\u001b[0;32m      4\u001b[0m \u001b[0mplt\u001b[0m\u001b[1;33m.\u001b[0m\u001b[0mtitle\u001b[0m\u001b[1;33m(\u001b[0m\u001b[1;34m'model train vs validation loss'\u001b[0m\u001b[1;33m)\u001b[0m\u001b[1;33m\u001b[0m\u001b[0m\n\u001b[0;32m      5\u001b[0m \u001b[0mplt\u001b[0m\u001b[1;33m.\u001b[0m\u001b[0mylabel\u001b[0m\u001b[1;33m(\u001b[0m\u001b[1;34m'loss'\u001b[0m\u001b[1;33m)\u001b[0m\u001b[1;33m\u001b[0m\u001b[0m\n",
      "\u001b[1;32m~\\Anaconda3\\lib\\site-packages\\matplotlib\\pyplot.py\u001b[0m in \u001b[0;36mplot\u001b[1;34m(*args, **kwargs)\u001b[0m\n\u001b[0;32m   3259\u001b[0m                       mplDeprecation)\n\u001b[0;32m   3260\u001b[0m     \u001b[1;32mtry\u001b[0m\u001b[1;33m:\u001b[0m\u001b[1;33m\u001b[0m\u001b[0m\n\u001b[1;32m-> 3261\u001b[1;33m         \u001b[0mret\u001b[0m \u001b[1;33m=\u001b[0m \u001b[0max\u001b[0m\u001b[1;33m.\u001b[0m\u001b[0mplot\u001b[0m\u001b[1;33m(\u001b[0m\u001b[1;33m*\u001b[0m\u001b[0margs\u001b[0m\u001b[1;33m,\u001b[0m \u001b[1;33m**\u001b[0m\u001b[0mkwargs\u001b[0m\u001b[1;33m)\u001b[0m\u001b[1;33m\u001b[0m\u001b[0m\n\u001b[0m\u001b[0;32m   3262\u001b[0m     \u001b[1;32mfinally\u001b[0m\u001b[1;33m:\u001b[0m\u001b[1;33m\u001b[0m\u001b[0m\n\u001b[0;32m   3263\u001b[0m         \u001b[0max\u001b[0m\u001b[1;33m.\u001b[0m\u001b[0m_hold\u001b[0m \u001b[1;33m=\u001b[0m \u001b[0mwashold\u001b[0m\u001b[1;33m\u001b[0m\u001b[0m\n",
      "\u001b[1;32m~\\Anaconda3\\lib\\site-packages\\matplotlib\\__init__.py\u001b[0m in \u001b[0;36minner\u001b[1;34m(ax, *args, **kwargs)\u001b[0m\n\u001b[0;32m   1715\u001b[0m                     warnings.warn(msg % (label_namer, func.__name__),\n\u001b[0;32m   1716\u001b[0m                                   RuntimeWarning, stacklevel=2)\n\u001b[1;32m-> 1717\u001b[1;33m             \u001b[1;32mreturn\u001b[0m \u001b[0mfunc\u001b[0m\u001b[1;33m(\u001b[0m\u001b[0max\u001b[0m\u001b[1;33m,\u001b[0m \u001b[1;33m*\u001b[0m\u001b[0margs\u001b[0m\u001b[1;33m,\u001b[0m \u001b[1;33m**\u001b[0m\u001b[0mkwargs\u001b[0m\u001b[1;33m)\u001b[0m\u001b[1;33m\u001b[0m\u001b[0m\n\u001b[0m\u001b[0;32m   1718\u001b[0m         \u001b[0mpre_doc\u001b[0m \u001b[1;33m=\u001b[0m \u001b[0minner\u001b[0m\u001b[1;33m.\u001b[0m\u001b[0m__doc__\u001b[0m\u001b[1;33m\u001b[0m\u001b[0m\n\u001b[0;32m   1719\u001b[0m         \u001b[1;32mif\u001b[0m \u001b[0mpre_doc\u001b[0m \u001b[1;32mis\u001b[0m \u001b[1;32mNone\u001b[0m\u001b[1;33m:\u001b[0m\u001b[1;33m\u001b[0m\u001b[0m\n",
      "\u001b[1;32m~\\Anaconda3\\lib\\site-packages\\matplotlib\\axes\\_axes.py\u001b[0m in \u001b[0;36mplot\u001b[1;34m(self, *args, **kwargs)\u001b[0m\n\u001b[0;32m   1370\u001b[0m         \u001b[0mkwargs\u001b[0m \u001b[1;33m=\u001b[0m \u001b[0mcbook\u001b[0m\u001b[1;33m.\u001b[0m\u001b[0mnormalize_kwargs\u001b[0m\u001b[1;33m(\u001b[0m\u001b[0mkwargs\u001b[0m\u001b[1;33m,\u001b[0m \u001b[0m_alias_map\u001b[0m\u001b[1;33m)\u001b[0m\u001b[1;33m\u001b[0m\u001b[0m\n\u001b[0;32m   1371\u001b[0m \u001b[1;33m\u001b[0m\u001b[0m\n\u001b[1;32m-> 1372\u001b[1;33m         \u001b[1;32mfor\u001b[0m \u001b[0mline\u001b[0m \u001b[1;32min\u001b[0m \u001b[0mself\u001b[0m\u001b[1;33m.\u001b[0m\u001b[0m_get_lines\u001b[0m\u001b[1;33m(\u001b[0m\u001b[1;33m*\u001b[0m\u001b[0margs\u001b[0m\u001b[1;33m,\u001b[0m \u001b[1;33m**\u001b[0m\u001b[0mkwargs\u001b[0m\u001b[1;33m)\u001b[0m\u001b[1;33m:\u001b[0m\u001b[1;33m\u001b[0m\u001b[0m\n\u001b[0m\u001b[0;32m   1373\u001b[0m             \u001b[0mself\u001b[0m\u001b[1;33m.\u001b[0m\u001b[0madd_line\u001b[0m\u001b[1;33m(\u001b[0m\u001b[0mline\u001b[0m\u001b[1;33m)\u001b[0m\u001b[1;33m\u001b[0m\u001b[0m\n\u001b[0;32m   1374\u001b[0m             \u001b[0mlines\u001b[0m\u001b[1;33m.\u001b[0m\u001b[0mappend\u001b[0m\u001b[1;33m(\u001b[0m\u001b[0mline\u001b[0m\u001b[1;33m)\u001b[0m\u001b[1;33m\u001b[0m\u001b[0m\n",
      "\u001b[1;32m~\\Anaconda3\\lib\\site-packages\\matplotlib\\axes\\_base.py\u001b[0m in \u001b[0;36m_grab_next_args\u001b[1;34m(self, *args, **kwargs)\u001b[0m\n\u001b[0;32m    402\u001b[0m                 \u001b[0mthis\u001b[0m \u001b[1;33m+=\u001b[0m \u001b[0margs\u001b[0m\u001b[1;33m[\u001b[0m\u001b[1;36m0\u001b[0m\u001b[1;33m]\u001b[0m\u001b[1;33m,\u001b[0m\u001b[1;33m\u001b[0m\u001b[0m\n\u001b[0;32m    403\u001b[0m                 \u001b[0margs\u001b[0m \u001b[1;33m=\u001b[0m \u001b[0margs\u001b[0m\u001b[1;33m[\u001b[0m\u001b[1;36m1\u001b[0m\u001b[1;33m:\u001b[0m\u001b[1;33m]\u001b[0m\u001b[1;33m\u001b[0m\u001b[0m\n\u001b[1;32m--> 404\u001b[1;33m             \u001b[1;32mfor\u001b[0m \u001b[0mseg\u001b[0m \u001b[1;32min\u001b[0m \u001b[0mself\u001b[0m\u001b[1;33m.\u001b[0m\u001b[0m_plot_args\u001b[0m\u001b[1;33m(\u001b[0m\u001b[0mthis\u001b[0m\u001b[1;33m,\u001b[0m \u001b[0mkwargs\u001b[0m\u001b[1;33m)\u001b[0m\u001b[1;33m:\u001b[0m\u001b[1;33m\u001b[0m\u001b[0m\n\u001b[0m\u001b[0;32m    405\u001b[0m                 \u001b[1;32myield\u001b[0m \u001b[0mseg\u001b[0m\u001b[1;33m\u001b[0m\u001b[0m\n\u001b[0;32m    406\u001b[0m \u001b[1;33m\u001b[0m\u001b[0m\n",
      "\u001b[1;32m~\\Anaconda3\\lib\\site-packages\\matplotlib\\axes\\_base.py\u001b[0m in \u001b[0;36m_plot_args\u001b[1;34m(self, tup, kwargs)\u001b[0m\n\u001b[0;32m    392\u001b[0m         \u001b[0mncx\u001b[0m\u001b[1;33m,\u001b[0m \u001b[0mncy\u001b[0m \u001b[1;33m=\u001b[0m \u001b[0mx\u001b[0m\u001b[1;33m.\u001b[0m\u001b[0mshape\u001b[0m\u001b[1;33m[\u001b[0m\u001b[1;36m1\u001b[0m\u001b[1;33m]\u001b[0m\u001b[1;33m,\u001b[0m \u001b[0my\u001b[0m\u001b[1;33m.\u001b[0m\u001b[0mshape\u001b[0m\u001b[1;33m[\u001b[0m\u001b[1;36m1\u001b[0m\u001b[1;33m]\u001b[0m\u001b[1;33m\u001b[0m\u001b[0m\n\u001b[0;32m    393\u001b[0m         \u001b[1;32mfor\u001b[0m \u001b[0mj\u001b[0m \u001b[1;32min\u001b[0m \u001b[0mxrange\u001b[0m\u001b[1;33m(\u001b[0m\u001b[0mmax\u001b[0m\u001b[1;33m(\u001b[0m\u001b[0mncx\u001b[0m\u001b[1;33m,\u001b[0m \u001b[0mncy\u001b[0m\u001b[1;33m)\u001b[0m\u001b[1;33m)\u001b[0m\u001b[1;33m:\u001b[0m\u001b[1;33m\u001b[0m\u001b[0m\n\u001b[1;32m--> 394\u001b[1;33m             \u001b[0mseg\u001b[0m \u001b[1;33m=\u001b[0m \u001b[0mfunc\u001b[0m\u001b[1;33m(\u001b[0m\u001b[0mx\u001b[0m\u001b[1;33m[\u001b[0m\u001b[1;33m:\u001b[0m\u001b[1;33m,\u001b[0m \u001b[0mj\u001b[0m \u001b[1;33m%\u001b[0m \u001b[0mncx\u001b[0m\u001b[1;33m]\u001b[0m\u001b[1;33m,\u001b[0m \u001b[0my\u001b[0m\u001b[1;33m[\u001b[0m\u001b[1;33m:\u001b[0m\u001b[1;33m,\u001b[0m \u001b[0mj\u001b[0m \u001b[1;33m%\u001b[0m \u001b[0mncy\u001b[0m\u001b[1;33m]\u001b[0m\u001b[1;33m,\u001b[0m \u001b[0mkw\u001b[0m\u001b[1;33m,\u001b[0m \u001b[0mkwargs\u001b[0m\u001b[1;33m)\u001b[0m\u001b[1;33m\u001b[0m\u001b[0m\n\u001b[0m\u001b[0;32m    395\u001b[0m             \u001b[0mret\u001b[0m\u001b[1;33m.\u001b[0m\u001b[0mappend\u001b[0m\u001b[1;33m(\u001b[0m\u001b[0mseg\u001b[0m\u001b[1;33m)\u001b[0m\u001b[1;33m\u001b[0m\u001b[0m\n\u001b[0;32m    396\u001b[0m         \u001b[1;32mreturn\u001b[0m \u001b[0mret\u001b[0m\u001b[1;33m\u001b[0m\u001b[0m\n",
      "\u001b[1;31mZeroDivisionError\u001b[0m: integer division or modulo by zero"
     ]
    },
    {
     "data": {
      "image/png": "[encoded data removed]",
      "text/plain": [
       "<matplotlib.figure.Figure at 0x1a71a841be0>"
      ]
     },
     "metadata": {},
     "output_type": "display_data"
    }
   ],
   "source": [
    "fig=plt.figure()\n",
    "plt.plot(train_loss_summary)\n",
    "plt.plot(cv_loss_summary)\n",
    "plt.title('model train vs validation loss')\n",
    "plt.ylabel('loss')\n",
    "plt.xlabel('epoch')\n",
    "plt.legend(['train', 'validation'], loc='upper right')\n",
    "plt.show()\n",
    "fig.savefig('epochs_tuning.png',dpi=1000)"
   ]
  },
  {
   "cell_type": "code",
   "execution_count": 102,
   "metadata": {},
   "outputs": [
    {
     "data": {
      "text/html": [
       "<div>\n",
       "<style scoped>\n",
       "    .dataframe tbody tr th:only-of-type {\n",
       "        vertical-align: middle;\n",
       "    }\n",
       "\n",
       "    .dataframe tbody tr th {\n",
       "        vertical-align: top;\n",
       "    }\n",
       "\n",
       "    .dataframe thead th {\n",
       "        text-align: right;\n",
       "    }\n",
       "</style>\n",
       "<table border=\"1\" class=\"dataframe\">\n",
       "  <thead>\n",
       "    <tr style=\"text-align: right;\">\n",
       "      <th></th>\n",
       "    </tr>\n",
       "  </thead>\n",
       "  <tbody>\n",
       "  </tbody>\n",
       "</table>\n",
       "</div>"
      ],
      "text/plain": [
       "Empty DataFrame\n",
       "Columns: []\n",
       "Index: []"
      ]
     },
     "execution_count": 102,
     "metadata": {},
     "output_type": "execute_result"
    }
   ],
   "source": [
    "train_loss_summary"
   ]
  },
  {
   "cell_type": "code",
   "execution_count": null,
   "metadata": {},
   "outputs": [],
   "source": []
  }
 ],
 "metadata": {
  "kernelspec": {
   "display_name": "Python 3",
   "language": "python",
   "name": "python3"
  },
  "language_info": {
   "codemirror_mode": {
    "name": "ipython",
    "version": 3
   },
   "file_extension": ".py",
   "mimetype": "text/x-python",
   "name": "python",
   "nbconvert_exporter": "python",
   "pygments_lexer": "ipython3",
   "version": "3.6.4"
  }
 },
 "nbformat": 4,
 "nbformat_minor": 2
}
